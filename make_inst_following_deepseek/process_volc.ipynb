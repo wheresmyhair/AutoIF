{
 "cells": [
  {
   "cell_type": "code",
   "execution_count": 4,
   "metadata": {},
   "outputs": [],
   "source": [
    "import jsonlines\n",
    "from datasets import load_dataset"
   ]
  },
  {
   "cell_type": "code",
   "execution_count": 5,
   "metadata": {},
   "outputs": [],
   "source": [
    "outputs = []"
   ]
  },
  {
   "cell_type": "code",
   "execution_count": 6,
   "metadata": {},
   "outputs": [
    {
     "name": "stderr",
     "output_type": "stream",
     "text": [
      "Using the latest cached version of the dataset since openbmb/UltraInteract_sft couldn't be found on the Hugging Face Hub\n",
      "Found the latest cached dataset configuration 'default' at /root/.cache/huggingface/datasets/openbmb___ultra_interact_sft/default/0.0.0/2b102e45f52d1f28b69db810e0d2f48db456272e (last modified on Fri Apr  4 11:41:35 2025).\n"
     ]
    }
   ],
   "source": [
    "ultraint = load_dataset(\"openbmb/UltraInteract_sft\", split='train').shuffle(seed=42).select(range(10000))"
   ]
  },
  {
   "cell_type": "code",
   "execution_count": 7,
   "metadata": {},
   "outputs": [],
   "source": [
    "for idx, data in enumerate(ultraint):\n",
    "    outputs.append({\"id\": f\"{idx}_UltraInteract_sft_{data['id']}\", \"msg\": [{\"role\": \"user\", \"content\": data[\"instruction\"]}]})"
   ]
  },
  {
   "cell_type": "code",
   "execution_count": 8,
   "metadata": {},
   "outputs": [
    {
     "name": "stderr",
     "output_type": "stream",
     "text": [
      "Using the latest cached version of the dataset since Open-Orca/1million-gpt-4 couldn't be found on the Hugging Face Hub\n",
      "Found the latest cached dataset configuration 'default' at /root/.cache/huggingface/datasets/Open-Orca___1million-gpt-4/default/0.0.0/759ab31f0f092bcb3f52a3e43b7d8f99beacf896 (last modified on Fri Apr  4 11:52:09 2025).\n"
     ]
    }
   ],
   "source": [
    "onemilorca = load_dataset(\"Open-Orca/1million-gpt-4\", split='train').shuffle(seed=42).select(range(10000))"
   ]
  },
  {
   "cell_type": "code",
   "execution_count": 9,
   "metadata": {},
   "outputs": [],
   "source": [
    "for idx, data in enumerate(onemilorca):\n",
    "    outputs.append({\"id\": f\"{idx}_1million-gpt-4_{data['id']}\", \"msg\": [{\"role\": \"system\", \"content\": data[\"system_prompt\"]},{\"role\": \"user\", \"content\": data[\"question\"]}]})"
   ]
  },
  {
   "cell_type": "code",
   "execution_count": null,
   "metadata": {},
   "outputs": [
    {
     "name": "stderr",
     "output_type": "stream",
     "text": [
      "Using the latest cached version of the dataset since Open-Orca/SlimOrca couldn't be found on the Hugging Face Hub\n",
      "Found the latest cached dataset configuration 'default' at /root/.cache/huggingface/datasets/Open-Orca___slim_orca/default/0.0.0/ce9ed009ef3292bac33d3520afaf5ec804066120 (last modified on Fri Apr  4 11:52:38 2025).\n"
     ]
    }
   ],
   "source": [
    "slimorca = load_dataset(\"Open-Orca/SlimOrca\", split='train').shuffle(seed=42).select(range(10000))"
   ]
  },
  {
   "cell_type": "code",
   "execution_count": 11,
   "metadata": {},
   "outputs": [],
   "source": [
    "for idx, data in enumerate(slimorca):\n",
    "    outputs.append({\"id\": f\"SlimOrca_{idx}\", \"msg\": [{\"role\": \"system\", \"content\": data[\"conversations\"][0][\"value\"]},{\"role\": \"user\", \"content\": data[\"conversations\"][1][\"value\"]}]})"
   ]
  },
  {
   "cell_type": "code",
   "execution_count": 12,
   "metadata": {},
   "outputs": [
    {
     "name": "stderr",
     "output_type": "stream",
     "text": [
      "Using the latest cached version of the dataset since sablo/oasst2_curated couldn't be found on the Hugging Face Hub\n",
      "Found the latest cached dataset configuration 'default' at /root/.cache/huggingface/datasets/sablo___oasst2_curated/default/0.0.0/220f0b2f949bad79dcb5fed627abc88542b3ba9e (last modified on Fri Apr  4 11:52:47 2025).\n"
     ]
    }
   ],
   "source": [
    "oasst2 = load_dataset(\"sablo/oasst2_curated\", split='train')"
   ]
  },
  {
   "cell_type": "code",
   "execution_count": 13,
   "metadata": {},
   "outputs": [],
   "source": [
    "for idx, data in enumerate(oasst2):\n",
    "    outputs.append({\"id\": f\"oasst2_{idx}\", \"msg\": [{\"role\": \"user\", \"content\": data[\"messages\"][0][\"content\"]}]})"
   ]
  },
  {
   "cell_type": "code",
   "execution_count": 15,
   "metadata": {},
   "outputs": [],
   "source": [
    "with jsonlines.open(\"/root/autodl-tmp/projs/AutoIF/make_inst_following_deepseek/instf_volc_deepseek.jsonl\", \"w\") as f:\n",
    "    for output in outputs:\n",
    "        output_final = {\n",
    "            \"custom_id\": output['id'], \n",
    "            \"body\": {\n",
    "                \"messages\": output['msg'],\n",
    "                \"max_tokens\": 16000,\n",
    "            }\n",
    "        }\n",
    "        f.write(output_final)\n",
    "\n"
   ]
  }
 ],
 "metadata": {
  "kernelspec": {
   "display_name": "autoif",
   "language": "python",
   "name": "python3"
  },
  "language_info": {
   "codemirror_mode": {
    "name": "ipython",
    "version": 3
   },
   "file_extension": ".py",
   "mimetype": "text/x-python",
   "name": "python",
   "nbconvert_exporter": "python",
   "pygments_lexer": "ipython3",
   "version": "3.10.16"
  }
 },
 "nbformat": 4,
 "nbformat_minor": 2
}
