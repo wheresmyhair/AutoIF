{
 "cells": [
  {
   "cell_type": "code",
   "execution_count": 1,
   "metadata": {},
   "outputs": [
    {
     "name": "stderr",
     "output_type": "stream",
     "text": [
      "/root/autodl-tmp/conda_envs/autoif/lib/python3.10/site-packages/tqdm/auto.py:21: TqdmWarning: IProgress not found. Please update jupyter and ipywidgets. See https://ipywidgets.readthedocs.io/en/stable/user_install.html\n",
      "  from .autonotebook import tqdm as notebook_tqdm\n"
     ]
    }
   ],
   "source": [
    "import jsonlines\n",
    "from datasets import load_dataset"
   ]
  },
  {
   "cell_type": "code",
   "execution_count": 2,
   "metadata": {},
   "outputs": [],
   "source": [
    "outputs = []"
   ]
  },
  {
   "cell_type": "code",
   "execution_count": 3,
   "metadata": {},
   "outputs": [],
   "source": [
    "ultraint = load_dataset(\"openbmb/UltraInteract_sft\", split='train').shuffle(seed=42).select(range(115000))"
   ]
  },
  {
   "cell_type": "code",
   "execution_count": 4,
   "metadata": {},
   "outputs": [],
   "source": [
    "for idx, data in enumerate(ultraint):\n",
    "    outputs.append({\n",
    "        \"id\": f\"{idx}_UltraInteract_sft_{data['id']}\", \n",
    "        \"msg\": [{\"role\": \"user\", \"content\": data[\"instruction\"]}],\n",
    "        \"original_ans\": [{\"role\": \"assistant\", \"content\": data[\"response\"]}]\n",
    "    })"
   ]
  },
  {
   "cell_type": "code",
   "execution_count": 5,
   "metadata": {},
   "outputs": [],
   "source": [
    "onemilorca = load_dataset(\"Open-Orca/1million-gpt-4\", split='train').shuffle(seed=42).select(range(115000))"
   ]
  },
  {
   "cell_type": "code",
   "execution_count": 6,
   "metadata": {},
   "outputs": [],
   "source": [
    "for idx, data in enumerate(onemilorca):\n",
    "    outputs.append({\n",
    "        \"id\": f\"{idx}_1million-gpt-4_{data['id']}\", \n",
    "        \"msg\": [{\"role\": \"system\", \"content\": data[\"system_prompt\"]},{\"role\": \"user\", \"content\": data[\"question\"]}],\n",
    "        \"original_ans\": [{\"role\": \"assistant\", \"content\": data[\"response\"]}]\n",
    "    })"
   ]
  },
  {
   "cell_type": "code",
   "execution_count": 7,
   "metadata": {},
   "outputs": [],
   "source": [
    "slimorca = load_dataset(\"Open-Orca/SlimOrca\", split='train').shuffle(seed=42).select(range(115000))"
   ]
  },
  {
   "cell_type": "code",
   "execution_count": null,
   "metadata": {},
   "outputs": [],
   "source": [
    "err_idx = []\n",
    "for idx, data in enumerate(slimorca):\n",
    "    try:\n",
    "        outputs.append({\n",
    "            \"id\": f\"SlimOrca_{idx}\", \n",
    "            \"msg\": [{\"role\": \"system\", \"content\": data[\"conversations\"][0][\"value\"]},{\"role\": \"user\", \"content\": data[\"conversations\"][1][\"value\"]}],\n",
    "            \"original_ans\": [{\"role\": \"assistant\", \"content\": data[\"conversations\"][2][\"value\"]}]\n",
    "        })\n",
    "    except IndexError:\n",
    "        outputs.append({\n",
    "            \"id\": f\"SlimOrca_{idx}\", \n",
    "            \"msg\": [{\"role\": \"system\", \"content\": data[\"conversations\"][0][\"value\"]},{\"role\": \"user\", \"content\": data[\"conversations\"][1][\"value\"]}],\n",
    "            \"original_ans\": [\"idxerr\"]\n",
    "        })\n",
    "        print(f\"IndexError for idx {idx} in SlimOrca dataset: {data['conversations']}\")\n",
    "        err_idx.append(idx)"
   ]
  },
  {
   "cell_type": "code",
   "execution_count": 9,
   "metadata": {},
   "outputs": [],
   "source": [
    "oasst2 = load_dataset(\"sablo/oasst2_curated\", split='train')"
   ]
  },
  {
   "cell_type": "code",
   "execution_count": 10,
   "metadata": {},
   "outputs": [
    {
     "data": {
      "text/plain": [
       "{'messages': [{'content': 'I am making mayonnaise, it was starting to thicken but now it has become runny and liquid again, is there any way to salvage it?',\n",
       "   'role': 'user'},\n",
       "  {'content': \"Yes, it's possible to fix runny mayonnaise! The most common reason for mayonnaise becoming runny is because the oil was added too quickly or the egg yolk wasn't emulsified properly. Here are some steps you can take to fix it:\\n\\n1. Separate another egg yolk and place it in a clean, dry bowl.\\n2. Slowly add the runny mayonnaise to the egg yolk while whisking vigorously.\\n3. Once all the runny mayonnaise has been added, continue whisking until the mixture has emulsified and thickened.\\n4. If the mayonnaise is still too runny, you can add another egg yolk and repeat the process.\\n\\nIf the mayonnaise still won't thicken, you can try adding a small amount of dijon mustard or vinegar to the mixture, which can act as emulsifiers and help stabilize the mayonnaise. It's important to add these ingredients slowly and in small amounts to avoid over-thinning the mixture.\",\n",
       "   'role': 'assistant'},\n",
       "  {'content': 'What is optimal Mayonnaise thickness?', 'role': 'user'},\n",
       "  {'content': 'The optimal mayonnaise thickness will depend on how it is being used. A runny mayonnaise may be good in chicken salad while a thicker mayonnaise may be better spread over a hamburger bun. The only way to determine your personal preference is to test different levels of viscosity in with different foods.',\n",
       "   'role': 'assistant'}]}"
      ]
     },
     "execution_count": 10,
     "metadata": {},
     "output_type": "execute_result"
    }
   ],
   "source": [
    "oasst2[0]"
   ]
  },
  {
   "cell_type": "code",
   "execution_count": 11,
   "metadata": {},
   "outputs": [],
   "source": [
    "for idx, data in enumerate(oasst2):\n",
    "    outputs.append({\n",
    "        \"id\": f\"oasst2_{idx}\", \n",
    "        \"msg\": [{\"role\": \"user\", \"content\": data[\"messages\"][0][\"content\"]}],\n",
    "        \"original_ans\": [{\"role\": \"assistant\", \"content\": data[\"messages\"][1][\"content\"]}]\n",
    "    })"
   ]
  },
  {
   "cell_type": "code",
   "execution_count": 12,
   "metadata": {},
   "outputs": [],
   "source": [
    "with jsonlines.open(\"/root/autodl-tmp/projs/AutoIF/make_inst_following_deepseek/instf_volc_deepseek_with_original_ans_350k.jsonl\", \"w\") as f:\n",
    "    for output in outputs:\n",
    "        output_final = {\n",
    "            \"custom_id\": output['id'], \n",
    "            \"body\": {\n",
    "                \"messages\": output['msg'],\n",
    "                \"max_tokens\": 16000,\n",
    "            },\n",
    "            \"original_ans\": output['original_ans'],\n",
    "        }\n",
    "        f.write(output_final)\n",
    "\n"
   ]
  }
 ],
 "metadata": {
  "kernelspec": {
   "display_name": "autoif",
   "language": "python",
   "name": "python3"
  },
  "language_info": {
   "codemirror_mode": {
    "name": "ipython",
    "version": 3
   },
   "file_extension": ".py",
   "mimetype": "text/x-python",
   "name": "python",
   "nbconvert_exporter": "python",
   "pygments_lexer": "ipython3",
   "version": "3.10.16"
  }
 },
 "nbformat": 4,
 "nbformat_minor": 2
}
